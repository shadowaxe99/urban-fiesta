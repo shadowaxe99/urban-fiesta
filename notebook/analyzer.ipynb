{
 "cells": [
  {
   "cell_type": "code",
   "execution_count": 42,
   "metadata": {},
   "outputs": [
    {
     "data": {
      "text/html": [
       "<div>\n",
       "<style scoped>\n",
       "    .dataframe tbody tr th:only-of-type {\n",
       "        vertical-align: middle;\n",
       "    }\n",
       "\n",
       "    .dataframe tbody tr th {\n",
       "        vertical-align: top;\n",
       "    }\n",
       "\n",
       "    .dataframe thead th {\n",
       "        text-align: right;\n",
       "    }\n",
       "</style>\n",
       "<table border=\"1\" class=\"dataframe\">\n",
       "  <thead>\n",
       "    <tr style=\"text-align: right;\">\n",
       "      <th></th>\n",
       "      <th>Subject</th>\n",
       "      <th>Sender</th>\n",
       "      <th>Sender ID</th>\n",
       "      <th>Body</th>\n",
       "    </tr>\n",
       "  </thead>\n",
       "  <tbody>\n",
       "    <tr>\n",
       "      <th>0</th>\n",
       "      <td>Reminder: Your Google Cloud free trial is waiting</td>\n",
       "      <td>Google Cloud</td>\n",
       "      <td>&lt;CloudPlatform-noreply@google.com&gt;</td>\n",
       "      <td>Go to your Console\\nYou’re almost there.\\nFini...</td>\n",
       "    </tr>\n",
       "    <tr>\n",
       "      <th>1</th>\n",
       "      <td>Request for Zoom Meeting: Team Training</td>\n",
       "      <td>Uddipta Deka</td>\n",
       "      <td>&lt;uddipta222000deka@gmail.com&gt;</td>\n",
       "      <td>Dear IOCL,\\n\\nI hope this email finds you in g...</td>\n",
       "    </tr>\n",
       "    <tr>\n",
       "      <th>2</th>\n",
       "      <td>Request for Zoom Meeting: Project Discussion</td>\n",
       "      <td>Uddipta Deka</td>\n",
       "      <td>&lt;uddipta222000deka@gmail.com&gt;</td>\n",
       "      <td>Dear IOCL,\\n\\nI hope this email finds you well...</td>\n",
       "    </tr>\n",
       "    <tr>\n",
       "      <th>3</th>\n",
       "      <td>TestMail</td>\n",
       "      <td>Uddipta Deka</td>\n",
       "      <td>&lt;uddipta222000deka@gmail.com&gt;</td>\n",
       "      <td>This mail is sent only for testing purposes.</td>\n",
       "    </tr>\n",
       "  </tbody>\n",
       "</table>\n",
       "</div>"
      ],
      "text/plain": [
       "                                             Subject        Sender  \\\n",
       "0  Reminder: Your Google Cloud free trial is waiting  Google Cloud   \n",
       "1            Request for Zoom Meeting: Team Training  Uddipta Deka   \n",
       "2       Request for Zoom Meeting: Project Discussion  Uddipta Deka   \n",
       "3                                           TestMail  Uddipta Deka   \n",
       "\n",
       "                            Sender ID  \\\n",
       "0  <CloudPlatform-noreply@google.com>   \n",
       "1       <uddipta222000deka@gmail.com>   \n",
       "2       <uddipta222000deka@gmail.com>   \n",
       "3       <uddipta222000deka@gmail.com>   \n",
       "\n",
       "                                                Body  \n",
       "0  Go to your Console\\nYou’re almost there.\\nFini...  \n",
       "1  Dear IOCL,\\n\\nI hope this email finds you in g...  \n",
       "2  Dear IOCL,\\n\\nI hope this email finds you well...  \n",
       "3       This mail is sent only for testing purposes.  "
      ]
     },
     "execution_count": 42,
     "metadata": {},
     "output_type": "execute_result"
    }
   ],
   "source": [
    "import pandas as pd\n",
    "df = pd.read_csv(\"../mails.csv\")\n",
    "df"
   ]
  },
  {
   "cell_type": "code",
   "execution_count": 56,
   "metadata": {},
   "outputs": [
    {
     "data": {
      "text/plain": [
       "'Request for Zoom Meeting: Team Training'"
      ]
     },
     "execution_count": 56,
     "metadata": {},
     "output_type": "execute_result"
    }
   ],
   "source": [
    "df['Subject'].iloc[1]"
   ]
  },
  {
   "cell_type": "code",
   "execution_count": 190,
   "metadata": {},
   "outputs": [],
   "source": [
    "keywords = ['Zoom','Meeting','Link','Meeting ID','Password','Meeting Password','Meeting Link','Zoom Link','Zoom Meeting']"
   ]
  },
  {
   "cell_type": "code",
   "execution_count": 191,
   "metadata": {},
   "outputs": [
    {
     "data": {
      "text/html": [
       "<div>\n",
       "<style scoped>\n",
       "    .dataframe tbody tr th:only-of-type {\n",
       "        vertical-align: middle;\n",
       "    }\n",
       "\n",
       "    .dataframe tbody tr th {\n",
       "        vertical-align: top;\n",
       "    }\n",
       "\n",
       "    .dataframe thead th {\n",
       "        text-align: right;\n",
       "    }\n",
       "</style>\n",
       "<table border=\"1\" class=\"dataframe\">\n",
       "  <thead>\n",
       "    <tr style=\"text-align: right;\">\n",
       "      <th></th>\n",
       "      <th>Subject</th>\n",
       "      <th>Sender</th>\n",
       "      <th>Sender ID</th>\n",
       "      <th>Body</th>\n",
       "    </tr>\n",
       "  </thead>\n",
       "  <tbody>\n",
       "    <tr>\n",
       "      <th>1</th>\n",
       "      <td>Request for Zoom Meeting: Team Training</td>\n",
       "      <td>Uddipta Deka</td>\n",
       "      <td>&lt;uddipta222000deka@gmail.com&gt;</td>\n",
       "      <td>Dear IOCL,\\n\\nI hope this email finds you in g...</td>\n",
       "    </tr>\n",
       "    <tr>\n",
       "      <th>2</th>\n",
       "      <td>Request for Zoom Meeting: Project Discussion</td>\n",
       "      <td>Uddipta Deka</td>\n",
       "      <td>&lt;uddipta222000deka@gmail.com&gt;</td>\n",
       "      <td>Dear IOCL,\\n\\nI hope this email finds you well...</td>\n",
       "    </tr>\n",
       "  </tbody>\n",
       "</table>\n",
       "</div>"
      ],
      "text/plain": [
       "                                        Subject        Sender  \\\n",
       "1       Request for Zoom Meeting: Team Training  Uddipta Deka   \n",
       "2  Request for Zoom Meeting: Project Discussion  Uddipta Deka   \n",
       "\n",
       "                       Sender ID  \\\n",
       "1  <uddipta222000deka@gmail.com>   \n",
       "2  <uddipta222000deka@gmail.com>   \n",
       "\n",
       "                                                Body  \n",
       "1  Dear IOCL,\\n\\nI hope this email finds you in g...  \n",
       "2  Dear IOCL,\\n\\nI hope this email finds you well...  "
      ]
     },
     "execution_count": 191,
     "metadata": {},
     "output_type": "execute_result"
    }
   ],
   "source": [
    "res = df[df['Body'].str.contains('|'.join(keywords))]\n",
    "res"
   ]
  },
  {
   "cell_type": "code",
   "execution_count": 192,
   "metadata": {},
   "outputs": [
    {
     "name": "stdout",
     "output_type": "stream",
     "text": [
      "Dear IOCL,\n",
      "\n",
      "I hope this email finds you in good health. I am writing to request a Zoom meeting to conduct a team training session on volleyball. As our team continues to grow, it is crucial that we enhance our skills and knowledge in this area to ensure consistent performance and productivity.\n",
      "\n",
      "I suggest the following details for the Zoom meeting:\n",
      "\n",
      "Date: July 20, 2023\n",
      "Time: 2:00 PM (GMT)\n",
      "Duration: 1.5 hours\n",
      "\n",
      "Please let me know if the proposed date and time are convenient for you. If not, I am open to alternative suggestions. Your participation in this training will greatly contribute to the development of our team, and I appreciate your support.\n",
      "\n",
      "Thank you for your attention to this matter. I look forward to your positive response.\n",
      "\n",
      "Warm regards,\n",
      "Dear IOCL,\n",
      "\n",
      "I hope this email finds you well. I would like to request a Zoom meeting to discuss an important project that requires your input and guidance. The meeting will provide an opportunity to go over the project details, address any concerns, and ensure that we are aligned on the next steps.\n",
      "\n",
      "I propose the following details for the Zoom meeting:\n",
      "\n",
      "Date: July 12, 2023\n",
      "Time: 10:00 AM (GMT)\n",
      "Duration: 1 hour\n",
      "\n",
      "Please let me know if the suggested date and time work for you, or if you have any alternative suggestions. I believe your expertise and insights will be invaluable to the success of this project, and I look forward to our discussion.\n",
      "\n",
      "Thank you for considering my request. I appreciate your time and cooperation.\n",
      "\n",
      "Best regards,\n"
     ]
    }
   ],
   "source": [
    "print(res['Body'].iloc[0])\n",
    "print(res['Body'].iloc[1])"
   ]
  },
  {
   "cell_type": "code",
   "execution_count": 193,
   "metadata": {},
   "outputs": [
    {
     "name": "stdout",
     "output_type": "stream",
     "text": [
      "[datetime.datetime(2023, 7, 20, 14, 0), datetime.datetime(2023, 7, 12, 10, 0)]\n",
      "[datetime.timedelta(seconds=5400), datetime.timedelta(seconds=3600)]\n"
     ]
    }
   ],
   "source": [
    "import re\n",
    "from dateutil import parser\n",
    "from datetime import datetime, timedelta\n",
    "len(res)\n",
    "date_and_time_list = []\n",
    "duration_list = []\n",
    "for index in range(len(res)):\n",
    "    body = res['Body'].iloc[index]\n",
    "    # date = body[body.find('Date:')+6:body.find('Time:')-1]\n",
    "    # time = body[body.find('Time:')+6:body.find('Time:')+20]\n",
    "    date = parser.parse(body, fuzzy=True).date()\n",
    "    matchTime = re.search(r'Time: (\\d{1,2}:\\d{2} [AP]M)', body)\n",
    "    matchDuration = re.search(r'Duration: ([\\d.]+) (\\w+)', body)\n",
    "    if matchTime and matchDuration:\n",
    "        time = matchTime.group(1)\n",
    "        duration_val = float(matchDuration.group(1))\n",
    "        duration_unit = matchDuration.group(2)\n",
    "\n",
    "        if duration_unit == 'hour' or duration_unit == 'hours':\n",
    "            duration = timedelta(hours=duration_val)\n",
    "        elif duration_unit == 'minute' or duration_unit == 'minutes':\n",
    "            duration = timedelta(minutes=duration_val)\n",
    "        else:\n",
    "            duration = timedelta()\n",
    "\n",
    "    date_and_time = datetime.strptime(str(date) + \" \" + time, '%Y-%m-%d %I:%M %p')\n",
    "\n",
    "    date_and_time_list.append(date_and_time)\n",
    "    duration_list.append(duration)\n",
    "\n",
    "print(date_and_time_list)\n",
    "# print(time)\n",
    "print(duration_list)"
   ]
  },
  {
   "cell_type": "code",
   "execution_count": 194,
   "metadata": {},
   "outputs": [
    {
     "data": {
      "text/html": [
       "<div>\n",
       "<style scoped>\n",
       "    .dataframe tbody tr th:only-of-type {\n",
       "        vertical-align: middle;\n",
       "    }\n",
       "\n",
       "    .dataframe tbody tr th {\n",
       "        vertical-align: top;\n",
       "    }\n",
       "\n",
       "    .dataframe thead th {\n",
       "        text-align: right;\n",
       "    }\n",
       "</style>\n",
       "<table border=\"1\" class=\"dataframe\">\n",
       "  <thead>\n",
       "    <tr style=\"text-align: right;\">\n",
       "      <th></th>\n",
       "      <th>Subject</th>\n",
       "      <th>Sender</th>\n",
       "      <th>Sender ID</th>\n",
       "      <th>Date and Time</th>\n",
       "      <th>Duration</th>\n",
       "    </tr>\n",
       "  </thead>\n",
       "  <tbody>\n",
       "    <tr>\n",
       "      <th>1</th>\n",
       "      <td>Request for Zoom Meeting: Team Training</td>\n",
       "      <td>Uddipta Deka</td>\n",
       "      <td>&lt;uddipta222000deka@gmail.com&gt;</td>\n",
       "      <td>2023-07-20 14:00:00</td>\n",
       "      <td>0 days 01:30:00</td>\n",
       "    </tr>\n",
       "    <tr>\n",
       "      <th>2</th>\n",
       "      <td>Request for Zoom Meeting: Project Discussion</td>\n",
       "      <td>Uddipta Deka</td>\n",
       "      <td>&lt;uddipta222000deka@gmail.com&gt;</td>\n",
       "      <td>2023-07-12 10:00:00</td>\n",
       "      <td>0 days 01:00:00</td>\n",
       "    </tr>\n",
       "  </tbody>\n",
       "</table>\n",
       "</div>"
      ],
      "text/plain": [
       "                                        Subject        Sender  \\\n",
       "1       Request for Zoom Meeting: Team Training  Uddipta Deka   \n",
       "2  Request for Zoom Meeting: Project Discussion  Uddipta Deka   \n",
       "\n",
       "                       Sender ID       Date and Time        Duration  \n",
       "1  <uddipta222000deka@gmail.com> 2023-07-20 14:00:00 0 days 01:30:00  \n",
       "2  <uddipta222000deka@gmail.com> 2023-07-12 10:00:00 0 days 01:00:00  "
      ]
     },
     "execution_count": 194,
     "metadata": {},
     "output_type": "execute_result"
    }
   ],
   "source": [
    "final_mail = res.drop('Body', axis=1)\n",
    "final_mail['Date and Time'] = pd.Series(date_and_time_list).tolist()\n",
    "final_mail['Duration'] = pd.Series(duration_list).tolist()\n",
    "final_mail"
   ]
  },
  {
   "cell_type": "code",
   "execution_count": 195,
   "metadata": {},
   "outputs": [],
   "source": [
    "prompt = 'Extract the date and time for the meeting\\n' + str(df['Body'].iloc[1] + 'covert it to the below format\\n 2020-12-12 10:00 AM') \n",
    "duration_prompt = \"Give the Duration of the meeting in minutes after reading the paragraph.\\n\" + str(res['Body'].iloc[1]) + \"\\nIf no duration mentioned, just provide a duration in minutes.\\nDon't add any other information in the response.(Response should be only the digit)\\n\"\n"
   ]
  },
  {
   "cell_type": "code",
   "execution_count": 196,
   "metadata": {},
   "outputs": [
    {
     "name": "stdout",
     "output_type": "stream",
     "text": [
      "Give the Duration of the meeting in minutes after reading the paragraph.\n",
      "Dear IOCL,\n",
      "\n",
      "I hope this email finds you well. I would like to request a Zoom meeting to discuss an important project that requires your input and guidance. The meeting will provide an opportunity to go over the project details, address any concerns, and ensure that we are aligned on the next steps.\n",
      "\n",
      "I propose the following details for the Zoom meeting:\n",
      "\n",
      "Date: July 12, 2023\n",
      "Time: 10:00 AM (GMT)\n",
      "Duration: 1 hour\n",
      "\n",
      "Please let me know if the suggested date and time work for you, or if you have any alternative suggestions. I believe your expertise and insights will be invaluable to the success of this project, and I look forward to our discussion.\n",
      "\n",
      "Thank you for considering my request. I appreciate your time and cooperation.\n",
      "\n",
      "Best regards,\n",
      "If no duration mentioned, just provide a duration in minutes.\n",
      "Don't add any other information in the response.(Response should be only the digit)\n",
      "\n"
     ]
    }
   ],
   "source": [
    "print(duration_prompt)"
   ]
  },
  {
   "cell_type": "code",
   "execution_count": 197,
   "metadata": {},
   "outputs": [],
   "source": [
    "import os\n",
    "os.environ[\"_BARD_API_KEY\"] = '[Bard API key]'"
   ]
  },
  {
   "cell_type": "code",
   "execution_count": 198,
   "metadata": {},
   "outputs": [
    {
     "name": "stdout",
     "output_type": "stream",
     "text": [
      "The duration of the meeting is 60 minutes.\n",
      "\n",
      "The email states that the meeting will last for \"1 hour\". There are 60 minutes in an hour, so the duration of the meeting is 60 minutes.\n"
     ]
    }
   ],
   "source": [
    "\n",
    "from bardapi import Bard\n",
    "res = Bard().get_answer(duration_prompt)['content']\n",
    "print(res)\n",
    "# res = '1 hour and 30 minutes'"
   ]
  },
  {
   "cell_type": "code",
   "execution_count": 172,
   "metadata": {},
   "outputs": [
    {
     "name": "stdout",
     "output_type": "stream",
     "text": [
      "90 minutes\n"
     ]
    }
   ],
   "source": [
    "import re\n",
    "duration_pattern = r\"\\d+ hour(?:s)? and \\d+ minute(?:s)?|\\d+ minute(?:s)?\"\n",
    "# duration_pattern = r\"\\d+ hour(?:s)? and \\d+ minute(?:s)?|\\d+ hour(?:s)?\"\n",
    "match = re.search(duration_pattern, res)\n",
    "if match:\n",
    "    duration = match.group()\n",
    "    print(duration)"
   ]
  },
  {
   "cell_type": "code",
   "execution_count": 104,
   "metadata": {},
   "outputs": [
    {
     "name": "stdout",
     "output_type": "stream",
     "text": [
      "Yes\n"
     ]
    }
   ],
   "source": [
    "import spacy\n",
    "nlp = spacy.load(\"en_core_web_sm\")\n",
    "\n",
    "result = nlp(res)\n",
    "\n",
    "# Access the first token\n",
    "first_token = result[0].text\n",
    "print(first_token)"
   ]
  },
  {
   "cell_type": "code",
   "execution_count": null,
   "metadata": {},
   "outputs": [],
   "source": []
  }
 ],
 "metadata": {
  "kernelspec": {
   "display_name": "Python 3",
   "language": "python",
   "name": "python3"
  },
  "language_info": {
   "codemirror_mode": {
    "name": "ipython",
    "version": 3
   },
   "file_extension": ".py",
   "mimetype": "text/x-python",
   "name": "python",
   "nbconvert_exporter": "python",
   "pygments_lexer": "ipython3",
   "version": "3.10.11"
  },
  "orig_nbformat": 4
 },
 "nbformat": 4,
 "nbformat_minor": 2
}

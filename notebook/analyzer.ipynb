{
 "cells": [
  {
   "cell_type": "code",
   "execution_count": 12,
   "metadata": {},
   "outputs": [
    {
     "data": {
      "text/html": [
       "<div>\n",
       "<style scoped>\n",
       "    .dataframe tbody tr th:only-of-type {\n",
       "        vertical-align: middle;\n",
       "    }\n",
       "\n",
       "    .dataframe tbody tr th {\n",
       "        vertical-align: top;\n",
       "    }\n",
       "\n",
       "    .dataframe thead th {\n",
       "        text-align: right;\n",
       "    }\n",
       "</style>\n",
       "<table border=\"1\" class=\"dataframe\">\n",
       "  <thead>\n",
       "    <tr style=\"text-align: right;\">\n",
       "      <th></th>\n",
       "      <th>Subject</th>\n",
       "      <th>Sender</th>\n",
       "      <th>Sender ID</th>\n",
       "      <th>Body</th>\n",
       "    </tr>\n",
       "  </thead>\n",
       "  <tbody>\n",
       "    <tr>\n",
       "      <th>0</th>\n",
       "      <td>Reminder: Your Google Cloud free trial is waiting</td>\n",
       "      <td>Google Cloud</td>\n",
       "      <td>&lt;CloudPlatform-noreply@google.com&gt;</td>\n",
       "      <td>Go to your Console\\nYou’re almost there.\\nFini...</td>\n",
       "    </tr>\n",
       "    <tr>\n",
       "      <th>1</th>\n",
       "      <td>Request for Zoom Meeting: Team Training</td>\n",
       "      <td>Uddipta Deka</td>\n",
       "      <td>&lt;uddipta222000deka@gmail.com&gt;</td>\n",
       "      <td>Dear IOCL,\\n\\nI hope this email finds you in g...</td>\n",
       "    </tr>\n",
       "    <tr>\n",
       "      <th>2</th>\n",
       "      <td>Request for Zoom Meeting: Project Discussion</td>\n",
       "      <td>Uddipta Deka</td>\n",
       "      <td>&lt;uddipta222000deka@gmail.com&gt;</td>\n",
       "      <td>Dear IOCL,\\n\\nI hope this email finds you well...</td>\n",
       "    </tr>\n",
       "    <tr>\n",
       "      <th>3</th>\n",
       "      <td>TestMail</td>\n",
       "      <td>Uddipta Deka</td>\n",
       "      <td>&lt;uddipta222000deka@gmail.com&gt;</td>\n",
       "      <td>This mail is sent only for testing purposes.</td>\n",
       "    </tr>\n",
       "  </tbody>\n",
       "</table>\n",
       "</div>"
      ],
      "text/plain": [
       "                                             Subject        Sender  \\\n",
       "0  Reminder: Your Google Cloud free trial is waiting  Google Cloud   \n",
       "1            Request for Zoom Meeting: Team Training  Uddipta Deka   \n",
       "2       Request for Zoom Meeting: Project Discussion  Uddipta Deka   \n",
       "3                                           TestMail  Uddipta Deka   \n",
       "\n",
       "                            Sender ID  \\\n",
       "0  <CloudPlatform-noreply@google.com>   \n",
       "1       <uddipta222000deka@gmail.com>   \n",
       "2       <uddipta222000deka@gmail.com>   \n",
       "3       <uddipta222000deka@gmail.com>   \n",
       "\n",
       "                                                Body  \n",
       "0  Go to your Console\\nYou’re almost there.\\nFini...  \n",
       "1  Dear IOCL,\\n\\nI hope this email finds you in g...  \n",
       "2  Dear IOCL,\\n\\nI hope this email finds you well...  \n",
       "3       This mail is sent only for testing purposes.  "
      ]
     },
     "execution_count": 12,
     "metadata": {},
     "output_type": "execute_result"
    }
   ],
   "source": [
    "import pandas as pd\n",
    "df = pd.read_csv(\"../mails.csv\")\n",
    "df"
   ]
  },
  {
   "cell_type": "code",
   "execution_count": 13,
   "metadata": {},
   "outputs": [
    {
     "data": {
      "text/plain": [
       "'Request for Zoom Meeting: Team Training'"
      ]
     },
     "execution_count": 13,
     "metadata": {},
     "output_type": "execute_result"
    }
   ],
   "source": [
    "df['Subject'].iloc[1]"
   ]
  },
  {
   "cell_type": "code",
   "execution_count": 17,
   "metadata": {},
   "outputs": [],
   "source": [
    "keywords = ['Zoom','Meeting','Link','Meeting ID','Password','Meeting Password','Meeting Link','Zoom Link','Zoom Meeting']"
   ]
  },
  {
   "cell_type": "code",
   "execution_count": 18,
   "metadata": {},
   "outputs": [
    {
     "data": {
      "text/html": [
       "<div>\n",
       "<style scoped>\n",
       "    .dataframe tbody tr th:only-of-type {\n",
       "        vertical-align: middle;\n",
       "    }\n",
       "\n",
       "    .dataframe tbody tr th {\n",
       "        vertical-align: top;\n",
       "    }\n",
       "\n",
       "    .dataframe thead th {\n",
       "        text-align: right;\n",
       "    }\n",
       "</style>\n",
       "<table border=\"1\" class=\"dataframe\">\n",
       "  <thead>\n",
       "    <tr style=\"text-align: right;\">\n",
       "      <th></th>\n",
       "      <th>Subject</th>\n",
       "      <th>Sender</th>\n",
       "      <th>Sender ID</th>\n",
       "      <th>Body</th>\n",
       "    </tr>\n",
       "  </thead>\n",
       "  <tbody>\n",
       "    <tr>\n",
       "      <th>1</th>\n",
       "      <td>Request for Zoom Meeting: Team Training</td>\n",
       "      <td>Uddipta Deka</td>\n",
       "      <td>&lt;uddipta222000deka@gmail.com&gt;</td>\n",
       "      <td>Dear IOCL,\\n\\nI hope this email finds you in g...</td>\n",
       "    </tr>\n",
       "    <tr>\n",
       "      <th>2</th>\n",
       "      <td>Request for Zoom Meeting: Project Discussion</td>\n",
       "      <td>Uddipta Deka</td>\n",
       "      <td>&lt;uddipta222000deka@gmail.com&gt;</td>\n",
       "      <td>Dear IOCL,\\n\\nI hope this email finds you well...</td>\n",
       "    </tr>\n",
       "  </tbody>\n",
       "</table>\n",
       "</div>"
      ],
      "text/plain": [
       "                                        Subject        Sender  \\\n",
       "1       Request for Zoom Meeting: Team Training  Uddipta Deka   \n",
       "2  Request for Zoom Meeting: Project Discussion  Uddipta Deka   \n",
       "\n",
       "                       Sender ID  \\\n",
       "1  <uddipta222000deka@gmail.com>   \n",
       "2  <uddipta222000deka@gmail.com>   \n",
       "\n",
       "                                                Body  \n",
       "1  Dear IOCL,\\n\\nI hope this email finds you in g...  \n",
       "2  Dear IOCL,\\n\\nI hope this email finds you well...  "
      ]
     },
     "execution_count": 18,
     "metadata": {},
     "output_type": "execute_result"
    }
   ],
   "source": [
    "res = df[df['Body'].str.contains('|'.join(keywords))]\n",
    "res"
   ]
  },
  {
   "cell_type": "code",
   "execution_count": null,
   "metadata": {},
   "outputs": [],
   "source": [
    "  "
   ]
  }
 ],
 "metadata": {
  "kernelspec": {
   "display_name": "Python 3",
   "language": "python",
   "name": "python3"
  },
  "language_info": {
   "codemirror_mode": {
    "name": "ipython",
    "version": 3
   },
   "file_extension": ".py",
   "mimetype": "text/x-python",
   "name": "python",
   "nbconvert_exporter": "python",
   "pygments_lexer": "ipython3",
   "version": "3.10.11"
  },
  "orig_nbformat": 4
 },
 "nbformat": 4,
 "nbformat_minor": 2
}

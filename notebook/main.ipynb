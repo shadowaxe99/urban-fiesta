{
 "cells": [
  {
   "cell_type": "markdown",
   "id": "c9d1c6f2",
   "metadata": {},
   "source": [
    "### Gmail Login using selenium and pyautogui"
   ]
  },
  {
   "cell_type": "raw",
   "id": "85697d8d",
   "metadata": {},
   "source": [
    "References\n",
    "1. https://www.geeksforgeeks.org/gmail-login-using-python-selenium/\n",
    "2. https://github.com/frkngny/EmailViaPython\n",
    "3. https://github.com/thepycoach/automation"
   ]
  },
  {
   "cell_type": "code",
   "execution_count": 1,
   "id": "60bf0bee",
   "metadata": {},
   "outputs": [],
   "source": [
    "%run credentials.ipynb"
   ]
  },
  {
   "cell_type": "code",
   "execution_count": 2,
   "id": "1d0a0366",
   "metadata": {},
   "outputs": [],
   "source": [
    "from selenium import webdriver\n",
    "import pyautogui as gui\n",
    "from selenium.webdriver.chrome.service import Service as ChromeService\n",
    "from webdriver_manager.chrome import ChromeDriverManager"
   ]
  },
  {
   "cell_type": "code",
   "execution_count": 3,
   "id": "a87ba20b",
   "metadata": {},
   "outputs": [],
   "source": [
    "def read_inbox(driver):\n",
    "    primary_path = '//div[@class=\"aAy J-KU-KO aIf-aLe aE2\"]'\n",
    "    mail_path = '//div[@class=\"ae4 aDM nH oy8Mbf\"]'\n",
    "    email_body = '//div[@class=\"a3s aiL \"]'\n",
    "    \n",
    "    primary_mailbox = driver.find_element(by=\"xpath\",value=primary_path)\n",
    "    primary_mailbox.click()\n",
    "\n",
    "    unread_mail = driver.find_element(by=\"xpath\",value=mail_path)\n",
    "    \n",
    "    #create a emply list to store all the unread email\n",
    "    email_df = []\n",
    "    \n",
    "    # Check if there are any unread emails\n",
    "    if unread_emails:\n",
    "    # Iterate over the unread emails and print the subject and sender\n",
    "        for email in unread_emails:\n",
    "            subject = email.text\n",
    "            sender = email.get_attribute(\"email\")\n",
    "            \n",
    "            #open the unread mail\n",
    "            email.click()\n",
    "            \n",
    "            #locate the body of the mail\n",
    "            bodyElement = driver.find_element(by=\"xpath\",value=email_body)\n",
    "            body = bodyElement.text\n",
    "            \n",
    "            email_df.append({'Subject': subject, \n",
    "                            'Sender': sender,\n",
    "                            'Body': body})\n",
    "            driver.back()\n",
    "    else:\n",
    "        print(\"No unread emails found.\")\n",
    "    \n",
    "    return email_df"
   ]
  },
  {
   "cell_type": "code",
   "execution_count": 4,
   "id": "d75131a9",
   "metadata": {
    "scrolled": true
   },
   "outputs": [
    {
     "name": "stderr",
     "output_type": "stream",
     "text": [
      "[WDM] - Downloading: 100%|█████████████████| 7.06M/7.06M [00:02<00:00, 3.57MB/s]\n"
     ]
    },
    {
     "ename": "NoSuchElementException",
     "evalue": "Message: no such element: Unable to locate element: {\"method\":\"xpath\",\"selector\":\"//div[@class=\"aAy J-KU-KO aIf-aLe aE2\"]\"}\n  (Session info: chrome=114.0.5735.198); For documentation on this error, please visit: https://www.selenium.dev/documentation/webdriver/troubleshooting/errors#no-such-element-exception\nStacktrace:\n#0 0x55b546f244e3 <unknown>\n#1 0x55b546c53c76 <unknown>\n#2 0x55b546c8fc96 <unknown>\n#3 0x55b546c8fdc1 <unknown>\n#4 0x55b546cc97f4 <unknown>\n#5 0x55b546caf03d <unknown>\n#6 0x55b546cc730e <unknown>\n#7 0x55b546caede3 <unknown>\n#8 0x55b546c842dd <unknown>\n#9 0x55b546c8534e <unknown>\n#10 0x55b546ee43e4 <unknown>\n#11 0x55b546ee83d7 <unknown>\n#12 0x55b546ef2b20 <unknown>\n#13 0x55b546ee9023 <unknown>\n#14 0x55b546eb71aa <unknown>\n#15 0x55b546f0d6b8 <unknown>\n#16 0x55b546f0d847 <unknown>\n#17 0x55b546f1d243 <unknown>\n#18 0x7f81cc494b43 <unknown>\n",
     "output_type": "error",
     "traceback": [
      "\u001b[0;31m---------------------------------------------------------------------------\u001b[0m",
      "\u001b[0;31mNoSuchElementException\u001b[0m                    Traceback (most recent call last)",
      "Cell \u001b[0;32mIn[4], line 19\u001b[0m\n\u001b[1;32m     16\u001b[0m \u001b[38;5;66;03m# Wait for the login process to complete\u001b[39;00m\n\u001b[1;32m     17\u001b[0m driver\u001b[38;5;241m.\u001b[39mimplicitly_wait(\u001b[38;5;241m10\u001b[39m) \n\u001b[0;32m---> 19\u001b[0m email_df \u001b[38;5;241m=\u001b[39m \u001b[43mread_inbox\u001b[49m\u001b[43m(\u001b[49m\u001b[43mdriver\u001b[49m\u001b[43m)\u001b[49m\n",
      "Cell \u001b[0;32mIn[3], line 6\u001b[0m, in \u001b[0;36mread_inbox\u001b[0;34m(driver)\u001b[0m\n\u001b[1;32m      3\u001b[0m mail_path \u001b[38;5;241m=\u001b[39m \u001b[38;5;124m'\u001b[39m\u001b[38;5;124m//div[@class=\u001b[39m\u001b[38;5;124m\"\u001b[39m\u001b[38;5;124mae4 aDM nH oy8Mbf\u001b[39m\u001b[38;5;124m\"\u001b[39m\u001b[38;5;124m]\u001b[39m\u001b[38;5;124m'\u001b[39m\n\u001b[1;32m      4\u001b[0m email_body \u001b[38;5;241m=\u001b[39m \u001b[38;5;124m'\u001b[39m\u001b[38;5;124m//div[@class=\u001b[39m\u001b[38;5;124m\"\u001b[39m\u001b[38;5;124ma3s aiL \u001b[39m\u001b[38;5;124m\"\u001b[39m\u001b[38;5;124m]\u001b[39m\u001b[38;5;124m'\u001b[39m\n\u001b[0;32m----> 6\u001b[0m primary_mailbox \u001b[38;5;241m=\u001b[39m \u001b[43mdriver\u001b[49m\u001b[38;5;241;43m.\u001b[39;49m\u001b[43mfind_element\u001b[49m\u001b[43m(\u001b[49m\u001b[43mby\u001b[49m\u001b[38;5;241;43m=\u001b[39;49m\u001b[38;5;124;43m\"\u001b[39;49m\u001b[38;5;124;43mxpath\u001b[39;49m\u001b[38;5;124;43m\"\u001b[39;49m\u001b[43m,\u001b[49m\u001b[43mvalue\u001b[49m\u001b[38;5;241;43m=\u001b[39;49m\u001b[43mprimary_path\u001b[49m\u001b[43m)\u001b[49m\n\u001b[1;32m      7\u001b[0m primary_mailbox\u001b[38;5;241m.\u001b[39mclick()\n\u001b[1;32m      9\u001b[0m unread_mail \u001b[38;5;241m=\u001b[39m driver\u001b[38;5;241m.\u001b[39mfind_element(by\u001b[38;5;241m=\u001b[39m\u001b[38;5;124m\"\u001b[39m\u001b[38;5;124mxpath\u001b[39m\u001b[38;5;124m\"\u001b[39m,value\u001b[38;5;241m=\u001b[39mmail_path)\n",
      "File \u001b[0;32m~/.local/lib/python3.10/site-packages/selenium/webdriver/remote/webdriver.py:740\u001b[0m, in \u001b[0;36mWebDriver.find_element\u001b[0;34m(self, by, value)\u001b[0m\n\u001b[1;32m    737\u001b[0m     by \u001b[38;5;241m=\u001b[39m By\u001b[38;5;241m.\u001b[39mCSS_SELECTOR\n\u001b[1;32m    738\u001b[0m     value \u001b[38;5;241m=\u001b[39m \u001b[38;5;124mf\u001b[39m\u001b[38;5;124m'\u001b[39m\u001b[38;5;124m[name=\u001b[39m\u001b[38;5;124m\"\u001b[39m\u001b[38;5;132;01m{\u001b[39;00mvalue\u001b[38;5;132;01m}\u001b[39;00m\u001b[38;5;124m\"\u001b[39m\u001b[38;5;124m]\u001b[39m\u001b[38;5;124m'\u001b[39m\n\u001b[0;32m--> 740\u001b[0m \u001b[38;5;28;01mreturn\u001b[39;00m \u001b[38;5;28;43mself\u001b[39;49m\u001b[38;5;241;43m.\u001b[39;49m\u001b[43mexecute\u001b[49m\u001b[43m(\u001b[49m\u001b[43mCommand\u001b[49m\u001b[38;5;241;43m.\u001b[39;49m\u001b[43mFIND_ELEMENT\u001b[49m\u001b[43m,\u001b[49m\u001b[43m \u001b[49m\u001b[43m{\u001b[49m\u001b[38;5;124;43m\"\u001b[39;49m\u001b[38;5;124;43musing\u001b[39;49m\u001b[38;5;124;43m\"\u001b[39;49m\u001b[43m:\u001b[49m\u001b[43m \u001b[49m\u001b[43mby\u001b[49m\u001b[43m,\u001b[49m\u001b[43m \u001b[49m\u001b[38;5;124;43m\"\u001b[39;49m\u001b[38;5;124;43mvalue\u001b[39;49m\u001b[38;5;124;43m\"\u001b[39;49m\u001b[43m:\u001b[49m\u001b[43m \u001b[49m\u001b[43mvalue\u001b[49m\u001b[43m}\u001b[49m\u001b[43m)\u001b[49m[\u001b[38;5;124m\"\u001b[39m\u001b[38;5;124mvalue\u001b[39m\u001b[38;5;124m\"\u001b[39m]\n",
      "File \u001b[0;32m~/.local/lib/python3.10/site-packages/selenium/webdriver/remote/webdriver.py:346\u001b[0m, in \u001b[0;36mWebDriver.execute\u001b[0;34m(self, driver_command, params)\u001b[0m\n\u001b[1;32m    344\u001b[0m response \u001b[38;5;241m=\u001b[39m \u001b[38;5;28mself\u001b[39m\u001b[38;5;241m.\u001b[39mcommand_executor\u001b[38;5;241m.\u001b[39mexecute(driver_command, params)\n\u001b[1;32m    345\u001b[0m \u001b[38;5;28;01mif\u001b[39;00m response:\n\u001b[0;32m--> 346\u001b[0m     \u001b[38;5;28;43mself\u001b[39;49m\u001b[38;5;241;43m.\u001b[39;49m\u001b[43merror_handler\u001b[49m\u001b[38;5;241;43m.\u001b[39;49m\u001b[43mcheck_response\u001b[49m\u001b[43m(\u001b[49m\u001b[43mresponse\u001b[49m\u001b[43m)\u001b[49m\n\u001b[1;32m    347\u001b[0m     response[\u001b[38;5;124m\"\u001b[39m\u001b[38;5;124mvalue\u001b[39m\u001b[38;5;124m\"\u001b[39m] \u001b[38;5;241m=\u001b[39m \u001b[38;5;28mself\u001b[39m\u001b[38;5;241m.\u001b[39m_unwrap_value(response\u001b[38;5;241m.\u001b[39mget(\u001b[38;5;124m\"\u001b[39m\u001b[38;5;124mvalue\u001b[39m\u001b[38;5;124m\"\u001b[39m, \u001b[38;5;28;01mNone\u001b[39;00m))\n\u001b[1;32m    348\u001b[0m     \u001b[38;5;28;01mreturn\u001b[39;00m response\n",
      "File \u001b[0;32m~/.local/lib/python3.10/site-packages/selenium/webdriver/remote/errorhandler.py:245\u001b[0m, in \u001b[0;36mErrorHandler.check_response\u001b[0;34m(self, response)\u001b[0m\n\u001b[1;32m    243\u001b[0m         alert_text \u001b[38;5;241m=\u001b[39m value[\u001b[38;5;124m\"\u001b[39m\u001b[38;5;124malert\u001b[39m\u001b[38;5;124m\"\u001b[39m]\u001b[38;5;241m.\u001b[39mget(\u001b[38;5;124m\"\u001b[39m\u001b[38;5;124mtext\u001b[39m\u001b[38;5;124m\"\u001b[39m)\n\u001b[1;32m    244\u001b[0m     \u001b[38;5;28;01mraise\u001b[39;00m exception_class(message, screen, stacktrace, alert_text)  \u001b[38;5;66;03m# type: ignore[call-arg]  # mypy is not smart enough here\u001b[39;00m\n\u001b[0;32m--> 245\u001b[0m \u001b[38;5;28;01mraise\u001b[39;00m exception_class(message, screen, stacktrace)\n",
      "\u001b[0;31mNoSuchElementException\u001b[0m: Message: no such element: Unable to locate element: {\"method\":\"xpath\",\"selector\":\"//div[@class=\"aAy J-KU-KO aIf-aLe aE2\"]\"}\n  (Session info: chrome=114.0.5735.198); For documentation on this error, please visit: https://www.selenium.dev/documentation/webdriver/troubleshooting/errors#no-such-element-exception\nStacktrace:\n#0 0x55b546f244e3 <unknown>\n#1 0x55b546c53c76 <unknown>\n#2 0x55b546c8fc96 <unknown>\n#3 0x55b546c8fdc1 <unknown>\n#4 0x55b546cc97f4 <unknown>\n#5 0x55b546caf03d <unknown>\n#6 0x55b546cc730e <unknown>\n#7 0x55b546caede3 <unknown>\n#8 0x55b546c842dd <unknown>\n#9 0x55b546c8534e <unknown>\n#10 0x55b546ee43e4 <unknown>\n#11 0x55b546ee83d7 <unknown>\n#12 0x55b546ef2b20 <unknown>\n#13 0x55b546ee9023 <unknown>\n#14 0x55b546eb71aa <unknown>\n#15 0x55b546f0d6b8 <unknown>\n#16 0x55b546f0d847 <unknown>\n#17 0x55b546f1d243 <unknown>\n#18 0x7f81cc494b43 <unknown>\n"
     ]
    }
   ],
   "source": [
    "# Create a new instance of the Firefox driver\n",
    "driver = webdriver.Chrome(service=ChromeService(ChromeDriverManager().install()))\n",
    "\n",
    "# Navigate to the Gmail login page\n",
    "driver.get(gmail_url)\n",
    "\n",
    "#type the email and password using pyautogui\n",
    "gui.typewrite(emailId)\n",
    "gui.press('enter')\n",
    "\n",
    "gui.sleep(3)  #sleep for 3sec to complete the above process\n",
    "\n",
    "gui.typewrite(password)\n",
    "gui.press('enter')\n",
    "\n",
    "# Wait for the login process to complete\n",
    "driver.implicitly_wait(10) \n",
    "\n",
    "email_df = read_inbox(driver)"
   ]
  },
  {
   "cell_type": "code",
   "execution_count": 5,
   "id": "24452ea4",
   "metadata": {},
   "outputs": [],
   "source": [
    "#close the browser\n",
    "driver.quit()"
   ]
  },
  {
   "cell_type": "code",
   "execution_count": 10,
   "id": "317525c3",
   "metadata": {},
   "outputs": [
    {
     "ename": "NameError",
     "evalue": "name 'email_df' is not defined",
     "output_type": "error",
     "traceback": [
      "\u001b[0;31m---------------------------------------------------------------------------\u001b[0m",
      "\u001b[0;31mNameError\u001b[0m                                 Traceback (most recent call last)",
      "Cell \u001b[0;32mIn[10], line 1\u001b[0m\n\u001b[0;32m----> 1\u001b[0m \u001b[43memail_df\u001b[49m\n",
      "\u001b[0;31mNameError\u001b[0m: name 'email_df' is not defined"
     ]
    }
   ],
   "source": [
    "email_df"
   ]
  },
  {
   "cell_type": "code",
   "execution_count": null,
   "id": "1efa0ba7",
   "metadata": {},
   "outputs": [],
   "source": []
  }
 ],
 "metadata": {
  "kernelspec": {
   "display_name": "Python 3 (ipykernel)",
   "language": "python",
   "name": "python3"
  },
  "language_info": {
   "codemirror_mode": {
    "name": "ipython",
    "version": 3
   },
   "file_extension": ".py",
   "mimetype": "text/x-python",
   "name": "python",
   "nbconvert_exporter": "python",
   "pygments_lexer": "ipython3",
   "version": "3.10.6"
  }
 },
 "nbformat": 4,
 "nbformat_minor": 5
}

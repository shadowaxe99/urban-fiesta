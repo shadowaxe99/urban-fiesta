{
 "cells": [
  {
   "cell_type": "code",
   "execution_count": 1,
   "id": "59fad3f5",
   "metadata": {},
   "outputs": [],
   "source": [
    "# this file stores the credentials for login purpose\n",
    "emailId = 'iocl.internship23@gmail.com'\n",
    "password = 'internship@iocl23'"
   ]
  },
  {
   "cell_type": "code",
   "execution_count": 2,
   "id": "00a541d8",
   "metadata": {},
   "outputs": [],
   "source": [
    "# gmail page url\n",
    "gmail_url = 'https://mail.google.com/'"
   ]
  },
  {
   "cell_type": "code",
   "execution_count": null,
   "id": "69e7fb4d",
   "metadata": {},
   "outputs": [],
   "source": []
  }
 ],
 "metadata": {
  "kernelspec": {
   "display_name": "Python 3 (ipykernel)",
   "language": "python",
   "name": "python3"
  },
  "language_info": {
   "codemirror_mode": {
    "name": "ipython",
    "version": 3
   },
   "file_extension": ".py",
   "mimetype": "text/x-python",
   "name": "python",
   "nbconvert_exporter": "python",
   "pygments_lexer": "ipython3",
   "version": "3.10.6"
  }
 },
 "nbformat": 4,
 "nbformat_minor": 5
}
